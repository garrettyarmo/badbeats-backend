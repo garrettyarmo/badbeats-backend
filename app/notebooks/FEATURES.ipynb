{
 "cells": [
  {
   "cell_type": "code",
   "execution_count": 5,
   "metadata": {},
   "outputs": [],
   "source": [
    "import pandas as pd\n",
    "from tabulate import tabulate\n",
    "import requests, json, sys, os, re, aiohttp, asyncio, time, datetime, logging, traceback\n",
    "\n",
    "# Ensure the utils package is installed and accessible\n",
    "sys.path.append(os.path.abspath(os.path.join(os.getcwd(), '..')))\n",
    "\n",
    "#import local packages\n",
    "from plumbing.natstat_ingestion import ingest_teams_data, ingest_games_data, ingest_players_data, parse_game_data"
   ]
  },
  {
   "cell_type": "code",
   "execution_count": 6,
   "metadata": {},
   "outputs": [],
   "source": [
    "teams_df = pd.read_pickle('dataframes/teams.pkl')\n",
    "players_df = pd.read_pickle('dataframes/players.pkl')\n",
    "games_df = pd.read_pickle('dataframes/games.pkl')\n",
    "player_stats_df = pd.read_pickle('dataframes/player_statlines.pkl')"
   ]
  },
  {
   "cell_type": "code",
   "execution_count": null,
   "metadata": {},
   "outputs": [],
   "source": [
    "# finished_game_df = games_df[games_df['status'] == 'Final']\n",
    "unique_positions_df = players_df.drop_duplicates(subset='position')\n",
    "print(tabulate(unique_positions_df, headers='keys', tablefmt='fancy_grid'))"
   ]
  },
  {
   "cell_type": "code",
   "execution_count": null,
   "metadata": {},
   "outputs": [],
   "source": [
    "for col in list(player_stats_df.columns):\n",
    "    print(col)"
   ]
  },
  {
   "cell_type": "code",
   "execution_count": null,
   "metadata": {},
   "outputs": [],
   "source": []
  }
 ],
 "metadata": {
  "kernelspec": {
   "display_name": ".venv",
   "language": "python",
   "name": "python3"
  },
  "language_info": {
   "codemirror_mode": {
    "name": "ipython",
    "version": 3
   },
   "file_extension": ".py",
   "mimetype": "text/x-python",
   "name": "python",
   "nbconvert_exporter": "python",
   "pygments_lexer": "ipython3",
   "version": "3.12.0"
  }
 },
 "nbformat": 4,
 "nbformat_minor": 2
}
