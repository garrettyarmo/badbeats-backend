{
 "cells": [
  {
   "cell_type": "code",
   "execution_count": 2,
   "metadata": {},
   "outputs": [],
   "source": [
    "import pandas as pd\n",
    "from tabulate import tabulate\n",
    "import requests, json, sys, os, re\n",
    "\n",
    "# Ensure the utils package is installed and accessible\n",
    "sys.path.append(os.path.abspath(os.path.join(os.getcwd(), '..')))\n",
    "\n",
    "#import local packages\n",
    "from plumbing.natstat_ingestion import ingest_teams_data, ingest_games_data, parse_game_data"
   ]
  },
  {
   "cell_type": "code",
   "execution_count": null,
   "metadata": {},
   "outputs": [],
   "source": [
    "# TEST URL OUTPUT\n",
    "# url = f\"https://interst.at/game/pfb/2024\"\n",
    "# response = requests.get(url)\n",
    "# response.raise_for_status()\n",
    "# data = response.json()\n",
    "# pretty_data = json.dumps(data, indent=3)\n",
    "# #print(pretty_data)"
   ]
  },
  {
   "cell_type": "code",
   "execution_count": 7,
   "metadata": {},
   "outputs": [],
   "source": [
    "game_df = ingest_games_data()\n",
    "team_df = ingest_teams_data()"
   ]
  },
  {
   "cell_type": "code",
   "execution_count": null,
   "metadata": {},
   "outputs": [],
   "source": [
    "game_df = game_df[game_df['status'] == 'Final']\n",
    "print(tabulate(team_df, headers='keys', tablefmt='grid'))"
   ]
  },
  {
   "cell_type": "code",
   "execution_count": null,
   "metadata": {},
   "outputs": [],
   "source": [
    "#TODO: Write a games loop that loops through all (active only?) games in game_df and calls the (game and player) parsing functions\n",
    "\n",
    "from plumbing.natstat_ingestion import ingest_teams_data, ingest_games_data, parse_game_data\n",
    "\n",
    "# INGEST\n",
    "team_df = ingest_teams_data()\n",
    "game_df = ingest_games_data()\n",
    "\n",
    "team_df = team_df.style.background_gradient(cmap='viridis')\n",
    "\n",
    "# Get list of finished games and their URLs\n",
    "final_games_df = game_df[game_df['status'] == 'Final']\n",
    "finished_games_urls_list = final_games_df['game_api_url'].tolist()\n",
    "# Initialize game_stat and player_stat dataframes to append each game to \n",
    "game_stat_df = pd.DataFrame()\n",
    "player_stat_df = pd.DataFrame()\n",
    "error_log = []\n",
    "\n",
    "for game_url in finished_games_urls_list:\n",
    "    print(f\"Game URL: {game_url}\")\n",
    "    try:\n",
    "        # Append the parsed game and player data to the respective dataframes\n",
    "        game_data, player_data = parse_game_data(game_url)\n",
    "        print(player_data)\n",
    "        game_stat_df = pd.concat([game_stat_df, game_data], ignore_index=True)\n",
    "        \n",
    "        # player_data = parse_player_data(data)\n",
    "        # player_stat_df = pd.concat([player_stat_df, player_data], ignore_index=True)\n",
    "    except requests.RequestException as e:\n",
    "        print(f\"Error with URL {game_url}: {e}\")\n",
    "        error_log.append((game_url, str(e)))\n",
    "    \n",
    "# Print or save the error log for further inspection\n",
    "print(\"Error Log:\", error_log)\n"
   ]
  },
  {
   "cell_type": "code",
   "execution_count": null,
   "metadata": {},
   "outputs": [],
   "source": [
    "print(tabulate(game_stat_df, headers='keys', tablefmt='grid'))"
   ]
  },
  {
   "cell_type": "code",
   "execution_count": null,
   "metadata": {},
   "outputs": [],
   "source": [
    "# def enrich_games_data(games_df):\n",
    "#     \"\"\"Takes a dataframe of games and parses the data for each game.\n",
    "\n",
    "#     Args:\n",
    "#         game_url (_type_): _description_\n",
    "#     \"\"\"\n",
    "#     # Get list of finished games and their URLs\n",
    "#     final_games_df = game_df[game_df['status'] == 'Final']\n",
    "#     finished_games_urls_list = final_games_df['game_api_url'].tolist()\n",
    "\n",
    "#     # Initialize game_stat and player_stat dataframes to append each game to \n",
    "#     game_stat_df = pd.DataFrame()\n",
    "#     player_stat_df = pd.DataFrame()\n",
    "\n",
    "#     for game_url in finished_games_urls_list:\n",
    "#         game_url = f\"https://interst.at{game_url}\"\n",
    "#         response = requests.get(game_url)\n",
    "#         response.raise_for_status()\n",
    "#         data = response.json()\n",
    "#         # Append the parsed game and player data to the respective dataframes\n",
    "#         pd.concat([game_stat_df, parse_game_data(data)], ignore_index=True)\n",
    "#         pd.concat([player_stat_df, parse_player_data(data)], ignore_index=True)\n",
    "    \n",
    "#     return game_stat_df, player_stat_df\n",
    "\n",
    "# gamestat_df, playerstat_df = enrich_games_data(data)"
   ]
  }
 ],
 "metadata": {
  "kernelspec": {
   "display_name": ".venv",
   "language": "python",
   "name": "python3"
  },
  "language_info": {
   "codemirror_mode": {
    "name": "ipython",
    "version": 3
   },
   "file_extension": ".py",
   "mimetype": "text/x-python",
   "name": "python",
   "nbconvert_exporter": "python",
   "pygments_lexer": "ipython3",
   "version": "3.12.0"
  }
 },
 "nbformat": 4,
 "nbformat_minor": 2
}
